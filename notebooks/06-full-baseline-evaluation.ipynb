{
 "cells": [
  {
   "cell_type": "code",
   "execution_count": 1,
   "id": "7f3282a7",
   "metadata": {},
   "outputs": [
    {
     "name": "stdout",
     "output_type": "stream",
     "text": [
      "/home/sslab/24m0786/graph-enhanced-retrieval-qa\n",
      "/home/sslab/24m0786/graph-enhanced-retrieval-qa\n"
     ]
    }
   ],
   "source": [
    "%cd graph-enhanced-retrieval-qa\n",
    "!pwd"
   ]
  },
  {
   "cell_type": "code",
   "execution_count": 3,
   "id": "a89c0501",
   "metadata": {},
   "outputs": [
    {
     "name": "stdout",
     "output_type": "stream",
     "text": [
      "Loading DPR model from local path: /home/sslab/24m0786/.cache/huggingface/hub/models--BAAI--bge-m3/snapshots/5617a9f61b028005a4858fdac845db406aefb181\n",
      "Model loaded.\n"
     ]
    },
    {
     "name": "stderr",
     "output_type": "stream",
     "text": [
      "Evaluating Baselines:   0%|          | 0/12576 [00:00<?, ?it/s]"
     ]
    },
    {
     "name": "stdout",
     "output_type": "stream",
     "text": [
      "\n",
      "--- [DEBUG] Processing Sample 1 ---\n",
      "Question: Who is the mother of the director of film Polish-Russian War (Film)?...\n",
      "[DEBUG] --> Activating BM25...\n",
      "[DEBUG] <-- BM25 complete.\n",
      "[DEBUG] --> Activating DPR...\n"
     ]
    },
    {
     "name": "stderr",
     "output_type": "stream",
     "text": [
      "/home/sslab/24m0786/miniconda3/envs/graph_qa/lib/python3.9/site-packages/torch/nn/modules/module.py:1762: FutureWarning: `encoder_attention_mask` is deprecated and will be removed in version 4.55.0 for `XLMRobertaSdpaSelfAttention.forward`.\n",
      "  return forward_call(*args, **kwargs)\n",
      "Evaluating Baselines:   0%|          | 3/12576 [00:00<32:07,  6.52it/s]  "
     ]
    },
    {
     "name": "stdout",
     "output_type": "stream",
     "text": [
      "[DEBUG] <-- DPR complete.\n",
      "--- [DEBUG] Finished Sample 1 ---\n",
      "\n",
      "--- [DEBUG] Processing Sample 2 ---\n",
      "Question: Which film came out first, Blind Shaft or The Mask Of Fu Manchu?...\n",
      "[DEBUG] --> Activating BM25...\n",
      "[DEBUG] <-- BM25 complete.\n",
      "[DEBUG] --> Activating DPR...\n",
      "[DEBUG] <-- DPR complete.\n",
      "--- [DEBUG] Finished Sample 2 ---\n",
      "\n",
      "--- [DEBUG] Processing Sample 3 ---\n",
      "Question: When did John V, Prince Of Anhalt-Zerbst's father die?...\n",
      "[DEBUG] --> Activating BM25...\n",
      "[DEBUG] <-- BM25 complete.\n",
      "[DEBUG] --> Activating DPR...\n",
      "[DEBUG] <-- DPR complete.\n",
      "--- [DEBUG] Finished Sample 3 ---\n"
     ]
    },
    {
     "name": "stderr",
     "output_type": "stream",
     "text": [
      "Evaluating Baselines: 100%|██████████| 12576/12576 [16:18<00:00, 12.85it/s]"
     ]
    },
    {
     "name": "stdout",
     "output_type": "stream",
     "text": [
      "\n",
      "--- BASELINE PERFORMANCE ---\n",
      "Evaluated on 12576 samples.\n",
      "\n",
      "BM25:\n",
      "  - Average MRR: 0.7501\n",
      "  - Average F1:  0.4633\n",
      "\n",
      "DPR (bge-m3 from local path):\n",
      "  - Average MRR: 0.9804\n",
      "  - Average F1:  0.7307\n"
     ]
    },
    {
     "name": "stderr",
     "output_type": "stream",
     "text": [
      "\n"
     ]
    }
   ],
   "source": [
    "import sys\n",
    "sys.path.append('..')\n",
    "\n",
    "import torch\n",
    "from sentence_transformers import SentenceTransformer\n",
    "from tqdm import tqdm\n",
    "import numpy as np\n",
    "\n",
    "from src.data_loader import load_dataset, process_sample\n",
    "from src.models.baselines import run_bm25, run_dpr\n",
    "from src.evaluate import calculate_mrr, calculate_f1\n",
    "\n",
    "dev_dataset = load_dataset('data/raw/dev.json')\n",
    "device = 'cuda' if torch.cuda.is_available() else 'cpu'\n",
    "\n",
    "model_path = '/home/sslab/24m0786/.cache/huggingface/hub/models--BAAI--bge-m3/snapshots/5617a9f61b028005a4858fdac845db406aefb181'\n",
    "print(f\"Loading DPR model from local path: {model_path}\")\n",
    "dpr_model = SentenceTransformer(model_path, device=device)\n",
    "print(\"Model loaded.\")\n",
    "\n",
    "bm25_mrrs, bm25_f1s = [], []\n",
    "dpr_mrrs, dpr_f1s = [], []\n",
    "\n",
    "debug_counter = 0\n",
    "SAMPLES_TO_DEBUG = 3\n",
    "\n",
    "for sample in tqdm(dev_dataset, desc=\"Evaluating Baselines\"):\n",
    "    processed = process_sample(sample)\n",
    "    question = processed['question']\n",
    "    passages = processed['passages']\n",
    "    ground_truth = processed['ground_truth_titles']\n",
    "\n",
    "    if not passages:\n",
    "        continue\n",
    "\n",
    "    if debug_counter < SAMPLES_TO_DEBUG:\n",
    "        print(f\"\\n--- [DEBUG] Processing Sample {debug_counter + 1} ---\")\n",
    "        print(f\"Question: {question[:80]}...\") # Print first 80 chars of the question\n",
    "    \n",
    "    if debug_counter < SAMPLES_TO_DEBUG: print(\"[DEBUG] --> Activating BM25...\")\n",
    "    bm25_ranked = run_bm25(question, passages)\n",
    "    if debug_counter < SAMPLES_TO_DEBUG: print(\"[DEBUG] <-- BM25 complete.\")\n",
    "    \n",
    "    bm25_mrrs.append(calculate_mrr(bm25_ranked, ground_truth))\n",
    "    bm25_f1s.append(calculate_f1(bm25_ranked, ground_truth))\n",
    "\n",
    "    if debug_counter < SAMPLES_TO_DEBUG: print(\"[DEBUG] --> Activating DPR...\")\n",
    "    dpr_ranked = run_dpr(question, passages, dpr_model)\n",
    "    if debug_counter < SAMPLES_TO_DEBUG: print(\"[DEBUG] <-- DPR complete.\")\n",
    "\n",
    "    dpr_mrrs.append(calculate_mrr(dpr_ranked, ground_truth))\n",
    "    dpr_f1s.append(calculate_f1(dpr_ranked, ground_truth))\n",
    "    \n",
    "    if debug_counter < SAMPLES_TO_DEBUG:\n",
    "        print(f\"--- [DEBUG] Finished Sample {debug_counter + 1} ---\")\n",
    "\n",
    "    debug_counter += 1 \n",
    "print(\"\\n--- BASELINE PERFORMANCE ---\")\n",
    "print(f\"Evaluated on {len(dev_dataset)} samples.\")\n",
    "print(\"\\nBM25:\")\n",
    "print(f\"  - Average MRR: {np.mean(bm25_mrrs):.4f}\")\n",
    "print(f\"  - Average F1:  {np.mean(bm25_f1s):.4f}\")\n",
    "print(f\"\\nDPR (bge-m3 from local path):\")\n",
    "print(f\"  - Average MRR: {np.mean(dpr_mrrs):.4f}\")\n",
    "print(f\"  - Average F1:  {np.mean(dpr_f1s):.4f}\")"
   ]
  },
  {
   "cell_type": "code",
   "execution_count": null,
   "id": "6a5f833f",
   "metadata": {},
   "outputs": [],
   "source": []
  }
 ],
 "metadata": {
  "kernelspec": {
   "display_name": "Python (graph_qa)",
   "language": "python",
   "name": "graph_qa"
  }
 },
 "nbformat": 4,
 "nbformat_minor": 5
}
