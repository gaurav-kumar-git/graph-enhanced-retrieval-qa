{
 "cells": [
  {
   "cell_type": "code",
   "execution_count": 1,
   "id": "069f4a9d",
   "metadata": {},
   "outputs": [
    {
     "name": "stdout",
     "output_type": "stream",
     "text": [
      "/home/sslab/24m0786/graph-enhanced-retrieval-qa\n",
      "/home/sslab/24m0786/graph-enhanced-retrieval-qa\n"
     ]
    }
   ],
   "source": [
    "%cd graph-enhanced-retrieval-qa\n",
    "!pwd"
   ]
  },
  {
   "cell_type": "code",
   "execution_count": 5,
   "id": "e9b67caf",
   "metadata": {},
   "outputs": [
    {
     "name": "stdout",
     "output_type": "stream",
     "text": [
      "Using device: cuda\n",
      "\n",
      "--- Sample Data ---\n",
      "Question: Are director of film Move (1970 Film) and director of film Méditerranée (1963 Film) from the same country?\n",
      "Number of passages: 10\n"
     ]
    }
   ],
   "source": [
    "import sys\n",
    "sys.path.append('..')\n",
    "\n",
    "import torch\n",
    "from sentence_transformers import SentenceTransformer, util\n",
    "from torch_geometric.data import Data\n",
    "from pprint import pprint\n",
    "import numpy as np\n",
    "\n",
    "from src.data_loader import load_dataset, process_sample\n",
    "\n",
    "device = 'cuda' if torch.cuda.is_available() else 'cpu'\n",
    "print(f\"Using device: {device}\")\n",
    "\n",
    "model_path = '/home/sslab/24m0786/.cache/huggingface/hub/models--BAAI--bge-m3/snapshots/5617a9f61b028005a4858fdac845db406aefb181'\n",
    "model = SentenceTransformer(model_path, device=device)\n",
    "\n",
    "train_dataset = load_dataset('data/raw/train.json')\n",
    "sample = train_dataset[0]\n",
    "processed_data = process_sample(sample)\n",
    "\n",
    "print(\"\\n--- Sample Data ---\")\n",
    "print(\"Question:\", processed_data['question'])\n",
    "print(f\"Number of passages: {len(processed_data['passages'])}\")"
   ]
  },
  {
   "cell_type": "code",
   "execution_count": 6,
   "id": "500993a4",
   "metadata": {},
   "outputs": [
    {
     "data": {
      "application/vnd.jupyter.widget-view+json": {
       "model_id": "b31fc7b5ba88474fbcc89bb295b3666b",
       "version_major": 2,
       "version_minor": 0
      },
      "text/plain": [
       "Batches:   0%|          | 0/1 [00:00<?, ?it/s]"
      ]
     },
     "metadata": {},
     "output_type": "display_data"
    },
    {
     "name": "stderr",
     "output_type": "stream",
     "text": [
      "/home/sslab/24m0786/miniconda3/envs/graph_qa/lib/python3.9/site-packages/torch/nn/modules/module.py:1762: FutureWarning: `encoder_attention_mask` is deprecated and will be removed in version 4.55.0 for `XLMRobertaSdpaSelfAttention.forward`.\n",
      "  return forward_call(*args, **kwargs)\n"
     ]
    },
    {
     "name": "stdout",
     "output_type": "stream",
     "text": [
      "\n",
      "--- Node Features ---\n",
      "Shape of node feature matrix (x): torch.Size([10, 1024])\n"
     ]
    }
   ],
   "source": [
    "passages_map = processed_data['passages']\n",
    "passage_titles = list(passages_map.keys())\n",
    "passage_texts = list(passages_map.values())\n",
    "node_features = model.encode(\n",
    "    passage_texts, \n",
    "    convert_to_tensor=True, \n",
    "    batch_size=32,\n",
    "    show_progress_bar=True\n",
    ")\n",
    "print(\"\\n--- Node Features ---\")\n",
    "print(\"Shape of node feature matrix (x):\", node_features.shape)"
   ]
  },
  {
   "cell_type": "code",
   "execution_count": 14,
   "id": "b0976d3b",
   "metadata": {},
   "outputs": [
    {
     "name": "stdout",
     "output_type": "stream",
     "text": [
      "\n",
      "--- Semantic Edges ---\n",
      "Found 0 edges based on similarity > 0.6\n",
      "Example edges: []\n"
     ]
    }
   ],
   "source": [
    "# Compute cosine similarity between all pairs of passages\n",
    "similarity_matrix = util.cos_sim(node_features, node_features)\n",
    "\n",
    "# Define a threshold for creating an edge\n",
    "SIMILARITY_THRESHOLD = 0.6  # This is a hyperparameter you can tune\n",
    "\n",
    "# Find pairs of nodes where similarity > threshold\n",
    "# We use torch.where to get the indices efficiently\n",
    "edge_indices_similarity = torch.where(similarity_matrix > SIMILARITY_THRESHOLD)\n",
    "\n",
    "# Create a list of edge tuples (source, destination)\n",
    "# We must filter out self-loops (e.g., passage 1 connecting to passage 1)\n",
    "similarity_edges = []\n",
    "for i in range(len(edge_indices_similarity[0])):\n",
    "    u = edge_indices_similarity[0][i].item()\n",
    "    v = edge_indices_similarity[1][i].item()\n",
    "    if u != v: # Exclude self-loops\n",
    "        similarity_edges.append((u, v))\n",
    "\n",
    "print(f\"\\n--- Semantic Edges ---\")\n",
    "print(f\"Found {len(similarity_edges)} edges based on similarity > {SIMILARITY_THRESHOLD}\")\n",
    "print(\"Example edges:\", similarity_edges[:5])"
   ]
  },
  {
   "cell_type": "code",
   "execution_count": 9,
   "id": "2b49a693",
   "metadata": {},
   "outputs": [
    {
     "name": "stdout",
     "output_type": "stream",
     "text": [
      "\n",
      "--- Sequential Edges ---\n",
      "Found 18 sequential edges.\n",
      "Example edges: [(0, 1), (1, 0), (1, 2), (2, 1), (2, 3), (3, 2), (3, 4), (4, 3), (4, 5), (5, 4), (5, 6), (6, 5), (6, 7), (7, 6), (7, 8), (8, 7), (8, 9), (9, 8)]\n"
     ]
    }
   ],
   "source": [
    "num_passages = len(passage_titles)\n",
    "sequential_edges = []\n",
    "\n",
    "# Create edges between consecutive passages (i -> i+1)\n",
    "# We make it undirected by adding the reverse edge (i+1 -> i)\n",
    "for i in range(num_passages - 1):\n",
    "    sequential_edges.append((i, i + 1))\n",
    "    sequential_edges.append((i + 1, i))\n",
    "\n",
    "print(f\"\\n--- Sequential Edges ---\")\n",
    "print(f\"Found {len(sequential_edges)} sequential edges.\")\n",
    "print(\"Example edges:\", sequential_edges[:18])"
   ]
  },
  {
   "cell_type": "code",
   "execution_count": 10,
   "id": "57590d80",
   "metadata": {},
   "outputs": [
    {
     "name": "stdout",
     "output_type": "stream",
     "text": [
      "\n",
      "--- Combined Edges ---\n",
      "Total unique edges: 18\n",
      "Shape of edge_index tensor: torch.Size([2, 18])\n"
     ]
    }
   ],
   "source": [
    "# Combine the two lists of edges\n",
    "all_edges = similarity_edges + sequential_edges\n",
    "\n",
    "# Use a set to get unique edges, as some might be duplicates (e.g., a sequential pair might also be similar)\n",
    "unique_edges = list(set(all_edges))\n",
    "\n",
    "print(f\"\\n--- Combined Edges ---\")\n",
    "print(f\"Total unique edges: {len(unique_edges)}\")\n",
    "\n",
    "# PyTorch Geometric requires edge_index in a specific format:\n",
    "# A tensor of shape [2, num_edges]\n",
    "if unique_edges:\n",
    "    edge_index = torch.tensor(unique_edges, dtype=torch.long).t().contiguous()\n",
    "else:\n",
    "    # Handle the case of no edges\n",
    "    edge_index = torch.empty((2, 0), dtype=torch.long)\n",
    "\n",
    "print(\"Shape of edge_index tensor:\", edge_index.shape)"
   ]
  },
  {
   "cell_type": "code",
   "execution_count": 11,
   "id": "a08407b8",
   "metadata": {},
   "outputs": [
    {
     "name": "stdout",
     "output_type": "stream",
     "text": [
      "\n",
      "--- Final Graph Object ---\n",
      "Data(x=[10, 1024], edge_index=[2, 18])\n"
     ]
    }
   ],
   "source": [
    "# Create the PyTorch Geometric Data object\n",
    "graph_data = Data(x=node_features, edge_index=edge_index)\n",
    "\n",
    "print(\"\\n--- Final Graph Object ---\")\n",
    "print(graph_data)"
   ]
  },
  {
   "cell_type": "code",
   "execution_count": null,
   "id": "06ef22da",
   "metadata": {},
   "outputs": [],
   "source": []
  }
 ],
 "metadata": {
  "kernelspec": {
   "display_name": "Python (graph_qa)",
   "language": "python",
   "name": "graph_qa"
  },
  "language_info": {
   "codemirror_mode": {
    "name": "ipython",
    "version": 3
   },
   "file_extension": ".py",
   "mimetype": "text/x-python",
   "name": "python",
   "nbconvert_exporter": "python",
   "pygments_lexer": "ipython3",
   "version": "3.9.23"
  }
 },
 "nbformat": 4,
 "nbformat_minor": 5
}
