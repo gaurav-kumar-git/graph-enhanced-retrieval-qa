{
 "cells": [
  {
   "cell_type": "code",
   "execution_count": 2,
   "id": "4ec68c4c",
   "metadata": {},
   "outputs": [
    {
     "name": "stdout",
     "output_type": "stream",
     "text": [
      "/home/sslab/24m0786/graph-enhanced-retrieval-qa\n",
      "/home/sslab/24m0786/graph-enhanced-retrieval-qa\n"
     ]
    }
   ],
   "source": [
    "%cd graph-enhanced-retrieval-qa\n",
    "!pwd"
   ]
  },
  {
   "cell_type": "code",
   "execution_count": 3,
   "id": "251566bd",
   "metadata": {},
   "outputs": [
    {
     "name": "stdout",
     "output_type": "stream",
     "text": [
      "{'question': 'Who is the mother of the director of film Polish-Russian War (Film)?', 'passages': {'Xawery Żuławski': 'Xawery Żuławski (born 22 December 1971 in Warsaw) is a Polish film director. In 1995 he graduated National Film School in Łódź. He is the son of actress Małgorzata Braunek and director Andrzej Żuławski. His second feature \"Wojna polsko-ruska\" (2009), adapted from the controversial best-selling novel by Dorota Masłowska, won First Prize in the New Polish Films competition at the 9th Era New Horizons Film Festival in Wrocław. In 2013, he stated he intends to direct a Polish novel \"Zły\" by Leopold Tyrmand. Żuławski and his wife Maria Strzelecka had 2 children together: son Kaj Żuławski (born 2002) and daughter Jagna Żuławska (born 2009).', 'Snow White and the Seven Dwarfs (1955 film)': 'Snow White and the Seven Dwarfs( USA:\" Snow White\") is a 1955 German film, directed by Erich Kobler, based on the story of Schneewittchen by the Brothers Grimm.', 'Maheen Khan': 'Maheen Khan is a Pakistani fashion and costume designer, also an award winner fashion designer for fashion labels like\" The Embroidery HouseMaheen\" and\" Gulabo\". She has done many national and international fashion events and shows. She undertook embroidery for the film Snow White and the Huntsman and television series The Jewel in the Crown.', 'A Snow White Christmas': 'A Snow White Christmas is a Christmas animated television special produced by Filmation and telecast December 19, 1980, on CBS. It is a sequel to the fairy tale\" Snow White\", unrelated to Filmation\\'s other sequel to\" Snow White\" titled\" Happily Ever After\"( 1990). The film\\'s plot revolves around the return of the Wicked Queen, who is unexpectedly brought back to life during Christmas and casts an evil spell that freezes the entire land. Only the young Snow White, the daughter of the original Snow White, manages to escape and take refuge with the seven giants with her dwarf friend. It is now up to the giants to defeat the Queen forever and save the kingdom.', 'Alice Washburn': 'Alice Washburn( 1860- 1929) was an American stage and film actress. She worked at the Edison, Vitagraph and Kalem studios. Her final film Snow White was her only known feature film. She died of heart attack in November 1929.', 'Polish-Russian War (film)': 'Polish-Russian War (Wojna polsko-ruska) is a 2009 Polish film directed by Xawery Żuławski based on the novel Polish-Russian War under the white-red flag by Dorota Masłowska.', 'Viktor Yeliseyev': 'Viktor Petrovich Yeliseyev( born June 9, 1950) is a Russian general, orchestra conductor and music teacher. He is the director of the Ministry of the Interior Ensemble, one of the two Russian Red Army Choirs.', 'Minamoto no Chikako': 'She was the mother of Prince Morinaga.', 'Liberty Ross': 'Liberty Lettice Lark Ross( born 23 September 1978) is an English model and actress. She has appeared in publications such as\" VogueHarper\\'s Bazaari- D\", and\" Dazed& Confused\". She played the role of Queen Eleanor in the 2012 fantasy film\" Snow White and the Huntsman\", directed by her then- husband, Rupert Sanders. She is the sister of composers Atticus and Leopold Ross.', 'Snow White and the Three Stooges': 'Snow White and the Three Stooges is the second feature film to star the Three Stooges after their 1959 resurgence in popularity. By this time, the trio consisted of Moe Howard, Larry Fine, and Joe DeRita( dubbed\" Curly Joe\"). Released by 20th Century Fox, this was the trio\\'s take on the classic fairy tale\" Snow White and the Seven Dwarfs\". The film was retitled Snow White and the Three Clowns in Great Britain. This was Walter Lang ‘s final directing film before his retirement. Olympic gold medalist figure skater Carol Heiss starred as Snow White, who must flee her home after The Evil Queen, her evil stepmother, wishes her to be dead. Seeking refuge in the cottage of the seven dwarfs, she accidentally meets the Stooges, who are house sitting for them while they are away.'}, 'ground_truth_titles': {'Polish-Russian War (film)', 'Xawery Żuławski'}}\n",
      "Question: Who is the mother of the director of film Polish-Russian War (Film)?\n",
      "Ground Truth Titles: {'Polish-Russian War (film)', 'Xawery Żuławski'}\n"
     ]
    }
   ],
   "source": [
    "import sys\n",
    "sys.path.append('..') \n",
    "\n",
    "from src.data_loader import load_dataset, process_sample\n",
    "from rank_bm25 import BM25Okapi\n",
    "from pprint import pprint\n",
    "\n",
    "dev_dataset = load_dataset('data/raw/dev.json')\n",
    "\n",
    "sample = dev_dataset[0]\n",
    "processed_data = process_sample(sample)\n",
    "print(processed_data)\n",
    "\n",
    "print(\"Question:\", processed_data['question'])\n",
    "print(\"Ground Truth Titles:\", processed_data['ground_truth_titles'])"
   ]
  },
  {
   "cell_type": "code",
   "execution_count": 14,
   "id": "c5bc5b71",
   "metadata": {},
   "outputs": [
    {
     "name": "stdout",
     "output_type": "stream",
     "text": [
      "['Xawery Żuławski', 'Snow White and the Seven Dwarfs (1955 film)', 'Maheen Khan', 'A Snow White Christmas', 'Alice Washburn', 'Polish-Russian War (film)', 'Viktor Yeliseyev', 'Minamoto no Chikako', 'Liberty Ross', 'Snow White and the Three Stooges']\n",
      "['Xawery Żuławski (born 22 December 1971 in Warsaw) is a Polish film director. In 1995 he graduated National Film School in Łódź. He is the son of actress Małgorzata Braunek and director Andrzej Żuławski. His second feature \"Wojna polsko-ruska\" (2009), adapted from the controversial best-selling novel by Dorota Masłowska, won First Prize in the New Polish Films competition at the 9th Era New Horizons Film Festival in Wrocław. In 2013, he stated he intends to direct a Polish novel \"Zły\" by Leopold Tyrmand. Żuławski and his wife Maria Strzelecka had 2 children together: son Kaj Żuławski (born 2002) and daughter Jagna Żuławska (born 2009).', 'Snow White and the Seven Dwarfs( USA:\" Snow White\") is a 1955 German film, directed by Erich Kobler, based on the story of Schneewittchen by the Brothers Grimm.', 'Maheen Khan is a Pakistani fashion and costume designer, also an award winner fashion designer for fashion labels like\" The Embroidery HouseMaheen\" and\" Gulabo\". She has done many national and international fashion events and shows. She undertook embroidery for the film Snow White and the Huntsman and television series The Jewel in the Crown.', 'A Snow White Christmas is a Christmas animated television special produced by Filmation and telecast December 19, 1980, on CBS. It is a sequel to the fairy tale\" Snow White\", unrelated to Filmation\\'s other sequel to\" Snow White\" titled\" Happily Ever After\"( 1990). The film\\'s plot revolves around the return of the Wicked Queen, who is unexpectedly brought back to life during Christmas and casts an evil spell that freezes the entire land. Only the young Snow White, the daughter of the original Snow White, manages to escape and take refuge with the seven giants with her dwarf friend. It is now up to the giants to defeat the Queen forever and save the kingdom.', 'Alice Washburn( 1860- 1929) was an American stage and film actress. She worked at the Edison, Vitagraph and Kalem studios. Her final film Snow White was her only known feature film. She died of heart attack in November 1929.', 'Polish-Russian War (Wojna polsko-ruska) is a 2009 Polish film directed by Xawery Żuławski based on the novel Polish-Russian War under the white-red flag by Dorota Masłowska.', 'Viktor Petrovich Yeliseyev( born June 9, 1950) is a Russian general, orchestra conductor and music teacher. He is the director of the Ministry of the Interior Ensemble, one of the two Russian Red Army Choirs.', 'She was the mother of Prince Morinaga.', 'Liberty Lettice Lark Ross( born 23 September 1978) is an English model and actress. She has appeared in publications such as\" VogueHarper\\'s Bazaari- D\", and\" Dazed& Confused\". She played the role of Queen Eleanor in the 2012 fantasy film\" Snow White and the Huntsman\", directed by her then- husband, Rupert Sanders. She is the sister of composers Atticus and Leopold Ross.', 'Snow White and the Three Stooges is the second feature film to star the Three Stooges after their 1959 resurgence in popularity. By this time, the trio consisted of Moe Howard, Larry Fine, and Joe DeRita( dubbed\" Curly Joe\"). Released by 20th Century Fox, this was the trio\\'s take on the classic fairy tale\" Snow White and the Seven Dwarfs\". The film was retitled Snow White and the Three Clowns in Great Britain. This was Walter Lang ‘s final directing film before his retirement. Olympic gold medalist figure skater Carol Heiss starred as Snow White, who must flee her home after The Evil Queen, her evil stepmother, wishes her to be dead. Seeking refuge in the cottage of the seven dwarfs, she accidentally meets the Stooges, who are house sitting for them while they are away.']\n",
      "--- BM25 Top 5 Ranked Titles ---\n",
      "['Polish-Russian War (film)',\n",
      " 'Minamoto no Chikako',\n",
      " 'Viktor Yeliseyev',\n",
      " 'Xawery Żuławski',\n",
      " 'Liberty Ross']\n"
     ]
    }
   ],
   "source": [
    "# Get the passages and their titles from our processed data\n",
    "passages_map = processed_data['passages']\n",
    "corpus_titles = list(passages_map.keys())\n",
    "print(corpus_titles[:20])  # Print first 5 titles for sanity check\n",
    "corpus_texts = list(passages_map.values())\n",
    "print(corpus_texts[:20])\n",
    "\n",
    "# Tokenize the corpus (simple split is fine for BM25)\n",
    "tokenized_corpus = [doc.split(\" \") for doc in corpus_texts]\n",
    "\n",
    "# Create the BM25 model and index the corpus\n",
    "bm25 = BM25Okapi(tokenized_corpus)\n",
    "\n",
    "# Tokenize the query\n",
    "question = processed_data['question']\n",
    "tokenized_query = question.split(\" \")\n",
    "\n",
    "# Get scores for all passages\n",
    "doc_scores = bm25.get_scores(tokenized_query)\n",
    "\n",
    "# Rank the titles based on the scores\n",
    "# We pair titles with scores, sort descending, then extract the titles\n",
    "ranked_results = sorted(zip(corpus_titles, doc_scores), key=lambda x: x[1], reverse=True)\n",
    "ranked_titles = [title for title, score in ranked_results]\n",
    "\n",
    "# Print the top 5 results\n",
    "print(\"--- BM25 Top 5 Ranked Titles ---\")\n",
    "pprint(ranked_titles[:5])"
   ]
  },
  {
   "cell_type": "code",
   "execution_count": null,
   "id": "3196fe09",
   "metadata": {},
   "outputs": [],
   "source": []
  }
 ],
 "metadata": {
  "kernelspec": {
   "display_name": "Python (graph_qa)",
   "language": "python",
   "name": "graph_qa"
  },
  "language_info": {
   "codemirror_mode": {
    "name": "ipython",
    "version": 3
   },
   "file_extension": ".py",
   "mimetype": "text/x-python",
   "name": "python",
   "nbconvert_exporter": "python",
   "pygments_lexer": "ipython3",
   "version": "3.9.23"
  }
 },
 "nbformat": 4,
 "nbformat_minor": 5
}
