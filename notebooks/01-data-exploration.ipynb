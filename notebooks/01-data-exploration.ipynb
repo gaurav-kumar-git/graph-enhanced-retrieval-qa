{
 "cells": [
  {
   "cell_type": "code",
   "execution_count": null,
   "id": "4668bbc2",
   "metadata": {},
   "outputs": [],
   "source": [
    "%cd graph-enhanced-retrieval-qa\n",
    "!pwd"
   ]
  },
  {
   "cell_type": "code",
   "execution_count": 26,
   "id": "bc6ded21",
   "metadata": {},
   "outputs": [],
   "source": [
    "import json\n",
    "import pandas as pd\n",
    "from pprint import pprint \n",
    "\n",
    "DATA_PATH = 'data/raw/train.json'"
   ]
  },
  {
   "cell_type": "code",
   "execution_count": 33,
   "id": "2415c44e",
   "metadata": {},
   "outputs": [
    {
     "name": "stdout",
     "output_type": "stream",
     "text": [
      "Total number of samples in the dataset: 167454\n"
     ]
    }
   ],
   "source": [
    "with open(DATA_PATH, 'r') as f:\n",
    "    dataset = json.load(f)    \n",
    "print(f\"Total number of samples in the dataset: {len(dataset)}\")"
   ]
  },
  {
   "cell_type": "code",
   "execution_count": 36,
   "id": "eb3b9dce",
   "metadata": {},
   "outputs": [
    {
     "name": "stdout",
     "output_type": "stream",
     "text": [
      "--- QUESTION ---\n",
      "Are both Kolyai, Kermanshah and Kharabeh-Ye Senji located in the same country?\n",
      "\n",
      "--- SUPPORTING FACTS (Ground Truth) ---\n",
      "[['Kolyai, Kermanshah', 0], ['Kharabeh-ye Senji', 0]]\n",
      "\n",
      "--- CONTEXT (First 3 passages) ---\n",
      "[['Kermanshah Airport',\n",
      "  ['Shahid Ashrafi Esfahani Airport is an airport in Kermanshah, Iran.',\n",
      "   'It serves the city of Kermanshah and the surrounding areas with daily '\n",
      "   'domestic and seasonal international destinations.',\n",
      "   'It is located in the eastern part of the city and shares its land with the '\n",
      "   'Havanirooz 1st Combat Base.']],\n",
      " ['Kharabeh-ye Senji',\n",
      "  ['Kharabeh- ye Senji( also Romanized as Kharābeh- ye Senjī; also known as '\n",
      "   'Kharābeh) is a village in Nazluchay Rural District, Nazlu District, Urmia '\n",
      "   'County, West Azerbaijan Province, Iran.',\n",
      "   'At the 2006 census, its population was 681, in 95 families.']],\n",
      " ['Kharabeh-ye Sadat',\n",
      "  ['Kharabeh- ye Sadat( also Romanized as Kharābeh- ye Sādāt) is a village in '\n",
      "   'Saidiyeh Rural District, Bostan District, Dasht- e Azadegan County, '\n",
      "   'Khuzestan Province, Iran.',\n",
      "   'At the 2006 census, its population was 59, in 9 families.']]]\n"
     ]
    }
   ],
   "source": [
    "sample = dataset[122347]\n",
    "\n",
    "print(\"--- QUESTION ---\")\n",
    "print(sample['question'])\n",
    "print(\"\\n--- SUPPORTING FACTS (Ground Truth) ---\")\n",
    "pprint(sample['supporting_facts'])\n",
    "print(\"\\n--- CONTEXT (First 3 passages) ---\")\n",
    "pprint(sample['context'][:3])"
   ]
  },
  {
   "cell_type": "code",
   "execution_count": 37,
   "id": "a5b06628",
   "metadata": {},
   "outputs": [
    {
     "name": "stdout",
     "output_type": "stream",
     "text": [
      "--- PROCESSED CONTEXT ---\n",
      "Found 10 passages.\n",
      "\n",
      "Example Title 1: Kermanshah Airport\n",
      "Example Passage 1: Shahid Ashrafi Esfahani Airport is an airport in Kermanshah, Iran. It serves the city of Kermanshah and the surrounding areas with daily domestic and seasonal international destinations. It is located in the eastern part of the city and shares its land with the Havanirooz 1st Combat Base.\n",
      "\n",
      "Example Title 2: Kharabeh-ye Senji\n",
      "Example Passage 2: Kharabeh- ye Senji( also Romanized as Kharābeh- ye Senjī; also known as Kharābeh) is a village in Nazluchay Rural District, Nazlu District, Urmia County, West Azerbaijan Province, Iran. At the 2006 census, its population was 681, in 95 families.\n"
     ]
    }
   ],
   "source": [
    "def process_context(context):\n",
    "    \"\"\"\n",
    "    Processes the raw context from a single sample.\n",
    "    Merges sentences under each title to form a single passage.\n",
    "\n",
    "    Args:\n",
    "        context (list): The 'context' field from a single data sample.\n",
    "\n",
    "    Returns:\n",
    "        tuple: A tuple containing:\n",
    "            - passage_titles (list): A list of passage titles.\n",
    "            - passages (list): A list of the corresponding full passages (merged sentences).\n",
    "    \"\"\"\n",
    "    passage_titles = []\n",
    "    passages = []\n",
    "\n",
    "    for title, sentences in context:\n",
    "        # Filter out empty sentences\n",
    "        if sentences:\n",
    "            full_passage = \" \".join(sentences)\n",
    "            passage_titles.append(title)\n",
    "            passages.append(full_passage)\n",
    "\n",
    "    return passage_titles, passages\n",
    "\n",
    "# Let's test our function on the sample\n",
    "titles, texts = process_context(sample['context'])\n",
    "print(\"--- PROCESSED CONTEXT ---\")\n",
    "print(f\"Found {len(titles)} passages.\")\n",
    "print(\"\\nExample Title 1:\", titles[0])\n",
    "print(\"Example Passage 1:\", texts[0])\n",
    "print(\"\\nExample Title 2:\", titles[1])\n",
    "print(\"Example Passage 2:\", texts[1])"
   ]
  },
  {
   "cell_type": "code",
   "execution_count": 39,
   "id": "cbfee6f2",
   "metadata": {},
   "outputs": [
    {
     "name": "stdout",
     "output_type": "stream",
     "text": [
      "--- GROUND TRUTH TITLES ---\n",
      "{'Kharabeh-ye Senji', 'Kolyai, Kermanshah'}\n"
     ]
    }
   ],
   "source": [
    "def get_ground_truth_titles(supporting_facts):\n",
    "    \"\"\"\n",
    "    Extracts the unique ground truth titles from the supporting_facts field.\n",
    "\n",
    "    Args:\n",
    "        supporting_facts (list): The 'supporting_facts' field from a single sample.\n",
    "\n",
    "    Returns:\n",
    "        set: A set of unique titles that are the ground truth for retrieval.\n",
    "    \"\"\"\n",
    "    return {title for title, sent_idx in supporting_facts}\n",
    "\n",
    "ground_truth_titles = get_ground_truth_titles(sample['supporting_facts'])\n",
    "print(\"--- GROUND TRUTH TITLES ---\")\n",
    "print(ground_truth_titles)"
   ]
  },
  {
   "cell_type": "code",
   "execution_count": 40,
   "id": "be9d04bc",
   "metadata": {},
   "outputs": [
    {
     "name": "stdout",
     "output_type": "stream",
     "text": [
      "Are all ground truth titles present in the processed context? True\n"
     ]
    }
   ],
   "source": [
    "# Get the set of all titles we processed from the context\n",
    "all_processed_titles = set(titles)\n",
    "\n",
    "# Check if the ground truth titles are a subset of the processed titles\n",
    "is_subset = ground_truth_titles.issubset(all_processed_titles)\n",
    "\n",
    "print(f\"Are all ground truth titles present in the processed context? {is_subset}\")\n",
    "\n",
    "# If False, find out which one is missing\n",
    "if not is_subset:\n",
    "    missing_titles = ground_truth_titles - all_processed_titles\n",
    "    print(f\"Missing titles: {missing_titles}\")"
   ]
  },
  {
   "cell_type": "code",
   "execution_count": 42,
   "id": "a91d4f6e",
   "metadata": {},
   "outputs": [
    {
     "name": "stdout",
     "output_type": "stream",
     "text": [
      "QUESTION: Who is the mother of the director of film Polish-Russian War (Film)?\n",
      "\n",
      "PASSAGES (first 2): [('Xawery Żuławski', 'Xawery Żuławski (born 22 December 1971 in Warsaw) is a Polish film director. In 1995 he graduated National Film School in Łódź. He is the son of actress Małgorzata Braunek and director Andrzej Żuławski. His second feature \"Wojna polsko-ruska\" (2009), adapted from the controversial best-selling novel by Dorota Masłowska, won First Prize in the New Polish Films competition at the 9th Era New Horizons Film Festival in Wrocław. In 2013, he stated he intends to direct a Polish novel \"Zły\" by Leopold Tyrmand. Żuławski and his wife Maria Strzelecka had 2 children together: son Kaj Żuławski (born 2002) and daughter Jagna Żuławska (born 2009).'), ('Snow White and the Seven Dwarfs (1955 film)', 'Snow White and the Seven Dwarfs( USA:\" Snow White\") is a 1955 German film, directed by Erich Kobler, based on the story of Schneewittchen by the Brothers Grimm.')]\n",
      "\n",
      "GROUND TRUTH: {'Polish-Russian War (film)', 'Xawery Żuławski'}\n"
     ]
    }
   ],
   "source": [
    "from src.data_loader import load_dataset, process_sample\n",
    "\n",
    "# Load the entire dataset once\n",
    "full_dataset = load_dataset('data/raw/dev.json')\n",
    "\n",
    "# Get a single raw sample\n",
    "raw_sample = full_dataset[0]\n",
    "\n",
    "# Process it with ONE function call\n",
    "processed_data = process_sample(raw_sample)\n",
    "\n",
    "# Now you can easily access the clean data\n",
    "print(\"QUESTION:\", processed_data['question'])\n",
    "print(\"\\nPASSAGES (first 2):\", list(processed_data['passages'].items())[:2])\n",
    "print(\"\\nGROUND TRUTH:\", processed_data['ground_truth_titles'])"
   ]
  },
  {
   "cell_type": "code",
   "execution_count": null,
   "id": "a008d647",
   "metadata": {},
   "outputs": [],
   "source": []
  }
 ],
 "metadata": {
  "kernelspec": {
   "display_name": "Python 3 (ipykernel)",
   "language": "python",
   "name": "python3"
  },
  "language_info": {
   "codemirror_mode": {
    "name": "ipython",
    "version": 3
   },
   "file_extension": ".py",
   "mimetype": "text/x-python",
   "name": "python",
   "nbconvert_exporter": "python",
   "pygments_lexer": "ipython3",
   "version": "3.9.23"
  }
 },
 "nbformat": 4,
 "nbformat_minor": 5
}
