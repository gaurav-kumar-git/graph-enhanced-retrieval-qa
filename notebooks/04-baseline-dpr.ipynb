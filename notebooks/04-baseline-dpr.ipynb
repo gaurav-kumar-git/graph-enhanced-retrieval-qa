{
 "cells": [
  {
   "cell_type": "code",
   "execution_count": null,
   "id": "a2c96a57",
   "metadata": {},
   "outputs": [
    {
     "name": "stdout",
     "output_type": "stream",
     "text": [
      "/home/sslab/24m0786/graph-enhanced-retrieval-qa\n",
      "/home/sslab/24m0786/graph-enhanced-retrieval-qa\n"
     ]
    }
   ],
   "source": [
    "%cd graph-enhanced-retrieval-qa\n",
    "!pwd"
   ]
  },
  {
   "cell_type": "code",
   "execution_count": 2,
   "id": "3ceebc4a",
   "metadata": {},
   "outputs": [
    {
     "name": "stdout",
     "output_type": "stream",
     "text": [
      "Sat Aug  2 16:45:01 2025       \n",
      "+-----------------------------------------------------------------------------------------+\n",
      "| NVIDIA-SMI 570.86.15              Driver Version: 570.86.15      CUDA Version: 12.8     |\n",
      "|-----------------------------------------+------------------------+----------------------+\n",
      "| GPU  Name                 Persistence-M | Bus-Id          Disp.A | Volatile Uncorr. ECC |\n",
      "| Fan  Temp   Perf          Pwr:Usage/Cap |           Memory-Usage | GPU-Util  Compute M. |\n",
      "|                                         |                        |               MIG M. |\n",
      "|=========================================+========================+======================|\n",
      "|   0  NVIDIA L40S                    Off |   00000000:2D:00.0 Off |                    0 |\n",
      "| N/A   32C    P8             32W /  350W |       4MiB /  46068MiB |      0%      Default |\n",
      "|                                         |                        |                  N/A |\n",
      "+-----------------------------------------+------------------------+----------------------+\n",
      "                                                                                         \n",
      "+-----------------------------------------------------------------------------------------+\n",
      "| Processes:                                                                              |\n",
      "|  GPU   GI   CI              PID   Type   Process name                        GPU Memory |\n",
      "|        ID   ID                                                               Usage      |\n",
      "|=========================================================================================|\n",
      "|  No running processes found                                                             |\n",
      "+-----------------------------------------------------------------------------------------+\n"
     ]
    }
   ],
   "source": [
    "!nvidia-smi"
   ]
  },
  {
   "cell_type": "code",
   "execution_count": null,
   "id": "bffcee4e",
   "metadata": {},
   "outputs": [
    {
     "name": "stdout",
     "output_type": "stream",
     "text": [
      "Using device: cuda\n",
      "Loading model directly from path: /home/sslab/24m0786/.cache/huggingface/hub/models--BAAI--bge-m3/snapshots/5617a9f61b028005a4858fdac845db406aefb181\n",
      "Model loaded successfully from local path.\n"
     ]
    }
   ],
   "source": [
    "import sys\n",
    "sys.path.append('..')\n",
    "\n",
    "import torch\n",
    "from sentence_transformers import SentenceTransformer, util\n",
    "from src.data_loader import load_dataset, process_sample\n",
    "from pprint import pprint\n",
    "\n",
    "dev_dataset = load_dataset('data/raw/dev.json')\n",
    "sample = dev_dataset[0]\n",
    "processed_data = process_sample(sample)\n",
    "\n",
    "device = 'cuda' if torch.cuda.is_available() else 'cpu'\n",
    "print(f\"Using device: {device}\")\n",
    "\n",
    "model_path = '/home/sslab/24m0786/.cache/huggingface/hub/models--BAAI--bge-m3/snapshots/5617a9f61b028005a4858fdac845db406aefb181' # <--- REPLACE THIS\n",
    "print(f\"Loading model directly from path: {model_path}\")\n",
    "\n",
    "try:\n",
    "    model = SentenceTransformer(model_path, device=device)\n",
    "    print(\"Model loaded successfully from local path.\")\n",
    "except Exception as e:\n",
    "    print(f\"ERROR: Failed to load model from path '{model_path}'.\")\n",
    "    print(f\"Please verify the path is correct and points to the snapshot directory containing the model files.\")\n",
    "    print(f\"Error details: {e}\")"
   ]
  },
  {
   "cell_type": "code",
   "execution_count": 4,
   "id": "9c831f4b",
   "metadata": {},
   "outputs": [
    {
     "name": "stderr",
     "output_type": "stream",
     "text": [
      "/home/sslab/24m0786/miniconda3/envs/graph_qa/lib/python3.9/site-packages/torch/nn/modules/module.py:1762: FutureWarning: `encoder_attention_mask` is deprecated and will be removed in version 4.55.0 for `XLMRobertaSdpaSelfAttention.forward`.\n",
      "  return forward_call(*args, **kwargs)\n"
     ]
    },
    {
     "data": {
      "application/vnd.jupyter.widget-view+json": {
       "model_id": "9e553602c02a42f3bc41df64065f488a",
       "version_major": 2,
       "version_minor": 0
      },
      "text/plain": [
       "Batches:   0%|          | 0/1 [00:00<?, ?it/s]"
      ]
     },
     "metadata": {},
     "output_type": "display_data"
    },
    {
     "name": "stdout",
     "output_type": "stream",
     "text": [
      "\n",
      "--- Dense Retrieval Top 5 Ranked Titles ---\n",
      "['Polish-Russian War (film)',\n",
      " 'Xawery Żuławski',\n",
      " 'Minamoto no Chikako',\n",
      " 'Alice Washburn',\n",
      " 'Liberty Ross']\n"
     ]
    }
   ],
   "source": [
    "passages_map = processed_data['passages']\n",
    "corpus_titles = list(passages_map.keys())\n",
    "corpus_texts = list(passages_map.values())\n",
    "question = processed_data['question']\n",
    "\n",
    "question_embedding = model.encode(question, convert_to_tensor=True)\n",
    "passage_embeddings = model.encode(corpus_texts, convert_to_tensor=True, show_progress_bar=True)\n",
    "\n",
    "cosine_scores = util.cos_sim(question_embedding, passage_embeddings)[0]\n",
    "top_results = torch.topk(cosine_scores, k=len(corpus_titles))\n",
    "ranked_titles = [corpus_titles[i] for i in top_results.indices]\n",
    "\n",
    "print(\"\\n--- Dense Retrieval Top 5 Ranked Titles ---\")\n",
    "pprint(ranked_titles[:5])"
   ]
  }
 ],
 "metadata": {
  "kernelspec": {
   "display_name": "Python (graph_qa)",
   "language": "python",
   "name": "graph_qa"
  },
  "language_info": {
   "codemirror_mode": {
    "name": "ipython",
    "version": 3
   },
   "file_extension": ".py",
   "mimetype": "text/x-python",
   "name": "python",
   "nbconvert_exporter": "python",
   "pygments_lexer": "ipython3",
   "version": "3.9.23"
  }
 },
 "nbformat": 4,
 "nbformat_minor": 5
}
